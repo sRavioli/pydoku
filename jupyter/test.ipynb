{
 "cells": [
  {
   "cell_type": "markdown",
   "metadata": {},
   "source": [
    "# 1 – Importa librerie\n",
    "\n",
    "Importiamo le librerie e le funzioni necessarie"
   ]
  },
  {
   "cell_type": "code",
   "execution_count": 1,
   "metadata": {},
   "outputs": [],
   "source": [
    "import numpy as np\n",
    "import cv2\n",
    "\n",
    "import keras\n",
    "from keras.models import load_model\n",
    "from sklearn.preprocessing import scale"
   ]
  },
  {
   "cell_type": "markdown",
   "metadata": {},
   "source": [
    "Creiamo una cella per le costanti"
   ]
  },
  {
   "cell_type": "code",
   "execution_count": 2,
   "metadata": {},
   "outputs": [],
   "source": [
    "# constants ~~~~~~~~~~~~~~~~~~~~~~~~~~~~~~~~~~~~~~~~~~~~~~~~~~~~~~~~~\n",
    "WIDTH, HEIGHT = 640, 480\n",
    "THRESHOLD = 75.00\n",
    "# ~~~~~~~~~~~~~~~~~~~~~~~~~~~~~~~~~~~~~~~~~~~~~~~~~~~~~~~~~~~~~~~~~~~"
   ]
  },
  {
   "cell_type": "markdown",
   "metadata": {},
   "source": [
    "# 2 – Crea funzioni\n",
    "\n",
    "Creiamo delle funzioni che saranno utili nelle celle successive"
   ]
  },
  {
   "cell_type": "code",
   "execution_count": 3,
   "metadata": {},
   "outputs": [],
   "source": [
    "def preprocess_img(image: np.ndarray) -> np.ndarray:\n",
    "    image = cv2.cvtColor(image, cv2.COLOR_BGR2GRAY)  # grayscale\n",
    "    image = cv2.equalizeHist(image)  # equalize img (distribute lighting evenly)\n",
    "    image = image / 255  # normalize img (restrict from [0, 255] to [0, 1])\n",
    "\n",
    "    return image\n",
    "\n",
    "\n",
    "\n",
    "def process_img(image: np.ndarray) -> np.ndarray:\n",
    "    image = np.asarray(image)\n",
    "    image = cv2.resize(image, (32, 32))\n",
    "    image = image.reshape(1, 32, 32, 1)\n",
    "    return image\n",
    "\n",
    "\n",
    "def predict(image: np.ndarray) -> tuple:\n",
    "    __class_index = model.predict(image)\n",
    "    _index = np.argmax(__class_index, axis=1)\n",
    "    _probability = round(np.amax(__class_index) * 100, 2)\n",
    "\n",
    "    return (_index[0], _probability)\n",
    "\n",
    "\n",
    "def display(original_img: np.ndarray, _index: int, _probability: float) -> None:\n",
    "    cv2.putText(\n",
    "        original_img,  # image\n",
    "        str(_index) + \" \" + str(_probability),  # text\n",
    "        (50, 50),  # point\n",
    "        cv2.FONT_HERSHEY_COMPLEX,  # font face\n",
    "        1.5,  # font scale\n",
    "        (0, 0, 255),  # color\n",
    "        1,  # thickness\n",
    "        cv2.LINE_AA,  # line type\n",
    "    )"
   ]
  },
  {
   "cell_type": "markdown",
   "metadata": {},
   "source": [
    "# 3 – Carica il modello\n",
    "\n",
    "Carichiamo il modello e inizializziamo la cattura"
   ]
  },
  {
   "cell_type": "code",
   "execution_count": 4,
   "metadata": {},
   "outputs": [],
   "source": [
    "# load model\n",
    "model = load_model(\"../source/trained_model\", compile=True)\n",
    "\n",
    "# initiate capture object\n",
    "cap = cv2.VideoCapture(0)\n",
    "cap.set(3, WIDTH)\n",
    "cap.set(4, HEIGHT)\n",
    "\n",
    "# check\n",
    "if not cap.isOpened():\n",
    "    raise IOError(\"Cannot open webcam\")"
   ]
  },
  {
   "cell_type": "markdown",
   "metadata": {},
   "source": [
    "# 4 – Loop principale\n",
    "\n",
    "Definiamo una funzione per il loop principale. Apriamo la webcam e iniziamo\n",
    "il processo di cattura, successivamente facciamo le predizioni."
   ]
  },
  {
   "cell_type": "code",
   "execution_count": 5,
   "metadata": {},
   "outputs": [],
   "source": [
    "    \n",
    "def mainloop() -> None:\n",
    "    # open webcam\n",
    "    while True:\n",
    "        ret, original_img = cap.read()\n",
    "\n",
    "        if not ret:\n",
    "            print(\"Cannot receive frame. Exiting...\")\n",
    "            break\n",
    "\n",
    "        image = preprocess_img(original_img)\n",
    "        image = process_img(image)\n",
    "\n",
    "        # predict\n",
    "        index, probability = predict(image)\n",
    "        print(index, probability)\n",
    "\n",
    "        if probability > THRESHOLD:\n",
    "            display(original_img, index, probability)\n",
    "\n",
    "        cv2.imshow(\"Webcam Input\", original_img)\n",
    "\n",
    "        c = cv2.waitKey(1)\n",
    "        if c == 27:\n",
    "            break\n",
    "\n",
    "    cap.release()\n",
    "    cv2.destroyAllWindows()"
   ]
  },
  {
   "cell_type": "markdown",
   "metadata": {},
   "source": [
    "Iniziamo la cattura"
   ]
  },
  {
   "cell_type": "code",
   "execution_count": null,
   "metadata": {},
   "outputs": [],
   "source": [
    "mainloop()"
   ]
  }
 ],
 "metadata": {
  "kernelspec": {
   "display_name": "Python 3.9.13 ('pydoku')",
   "language": "python",
   "name": "python3"
  },
  "language_info": {
   "codemirror_mode": {
    "name": "ipython",
    "version": 3
   },
   "file_extension": ".py",
   "mimetype": "text/x-python",
   "name": "python",
   "nbconvert_exporter": "python",
   "pygments_lexer": "ipython3",
   "version": "3.9.13"
  },
  "orig_nbformat": 4,
  "vscode": {
   "interpreter": {
    "hash": "21df5813da2c78d79906d3707346daec9326d692096f20b6334f30695c4e5055"
   }
  }
 },
 "nbformat": 4,
 "nbformat_minor": 2
}
